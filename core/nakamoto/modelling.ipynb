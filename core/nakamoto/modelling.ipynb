{
 "cells": [
  {
   "cell_type": "markdown",
   "metadata": {},
   "source": [
    "## State sync."
   ]
  },
  {
   "cell_type": "code",
   "execution_count": null,
   "metadata": {},
   "outputs": [],
   "source": [
    "MEGABYTE = 1000 * 1000\n",
    "KILOBYTE = 1000\n",
    "\n",
    "max_block_size = MEGABYTE\n",
    "\n",
    "# type BlockHeader struct {\n",
    "# \tParentHash             [32]byte\n",
    "# \tParentTotalWork        big.Int\n",
    "# \tTimestamp              uint64\n",
    "# \tNumTransactions        uint64\n",
    "# \tTransactionsMerkleRoot [32]byte\n",
    "# \tNonce                  [32]byte\n",
    "# \tGraffiti               [32]byte\n",
    "# }\n",
    "block_header_size = 32 + 64 + 8 + 8 + 32 + 32 + 32 \n",
    "block_header_size = 208\n",
    "\n",
    "# type RawTransaction struct {\n",
    "# \tVersion    byte     `json:\"version\"`\n",
    "# \tSig        [64]byte `json:\"sig\"`\n",
    "# \tFromPubkey [65]byte `json:\"from\"`\n",
    "# \tToPubkey   [65]byte `json:\"to\"`\n",
    "# \tAmount     uint64   `json:\"amount\"`\n",
    "# \tFee        uint64   `json:\"fee\"`\n",
    "# \tNonce      uint64   `json:\"nonce\"`\n",
    "# }\n",
    "tx_size = 1 + 65 + 65 + 8 + 8 + 8\n",
    "tx_size = 155\n",
    "\n",
    "max_txs_per_block = (max_block_size - block_header_size) // tx_size\n",
    "print(max_txs_per_block)\n",
    "\n",
    "# 1 block / 10 min.\n",
    "average_block_rate_per_minute = 1 / 10\n",
    "blocks_per_day = average_block_rate_per_minute * 60 * 24\n",
    "# blocks_per_day = 144\n",
    "print(blocks_per_day) \n",
    "\n",
    "\n",
    "# \n",
    "# State sync.\n",
    "# \n",
    "\n",
    "\n"
   ]
  },
  {
   "cell_type": "code",
   "execution_count": null,
   "metadata": {},
   "outputs": [],
   "source": []
  }
 ],
 "metadata": {
  "kernelspec": {
   "display_name": "Python 3",
   "language": "python",
   "name": "python3"
  },
  "language_info": {
   "name": "python",
   "version": "3.9.6"
  }
 },
 "nbformat": 4,
 "nbformat_minor": 2
}

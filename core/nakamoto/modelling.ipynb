{
 "cells": [
  {
   "cell_type": "markdown",
   "metadata": {},
   "source": [
    "# Block reward schedule."
   ]
  },
  {
   "cell_type": "code",
   "execution_count": 10,
   "metadata": {},
   "outputs": [
    {
     "name": "stdout",
     "output_type": "stream",
     "text": [
      "Defaulting to user installation because normal site-packages is not writeable\n",
      "Requirement already satisfied: matplotlib in /Users/liamz/Library/Python/3.9/lib/python/site-packages (3.9.1)\n",
      "Requirement already satisfied: pandas in /Users/liamz/Library/Python/3.9/lib/python/site-packages (2.2.2)\n",
      "Requirement already satisfied: kiwisolver>=1.3.1 in /Users/liamz/Library/Python/3.9/lib/python/site-packages (from matplotlib) (1.4.5)\n",
      "Requirement already satisfied: cycler>=0.10 in /Users/liamz/Library/Python/3.9/lib/python/site-packages (from matplotlib) (0.12.1)\n",
      "Requirement already satisfied: python-dateutil>=2.7 in /Users/liamz/Library/Python/3.9/lib/python/site-packages (from matplotlib) (2.9.0.post0)\n",
      "Requirement already satisfied: contourpy>=1.0.1 in /Users/liamz/Library/Python/3.9/lib/python/site-packages (from matplotlib) (1.2.1)\n",
      "Requirement already satisfied: fonttools>=4.22.0 in /Users/liamz/Library/Python/3.9/lib/python/site-packages (from matplotlib) (4.53.1)\n",
      "Requirement already satisfied: importlib-resources>=3.2.0 in /Users/liamz/Library/Python/3.9/lib/python/site-packages (from matplotlib) (6.4.0)\n",
      "Requirement already satisfied: packaging>=20.0 in /Users/liamz/Library/Python/3.9/lib/python/site-packages (from matplotlib) (24.1)\n",
      "Requirement already satisfied: numpy>=1.23 in /Users/liamz/Library/Python/3.9/lib/python/site-packages (from matplotlib) (2.0.1)\n",
      "Requirement already satisfied: pyparsing>=2.3.1 in /Users/liamz/Library/Python/3.9/lib/python/site-packages (from matplotlib) (3.1.2)\n",
      "Requirement already satisfied: pillow>=8 in /Users/liamz/Library/Python/3.9/lib/python/site-packages (from matplotlib) (10.4.0)\n",
      "Requirement already satisfied: tzdata>=2022.7 in /Users/liamz/Library/Python/3.9/lib/python/site-packages (from pandas) (2024.1)\n",
      "Requirement already satisfied: pytz>=2020.1 in /Users/liamz/Library/Python/3.9/lib/python/site-packages (from pandas) (2024.1)\n",
      "Requirement already satisfied: zipp>=3.1.0 in /Users/liamz/Library/Python/3.9/lib/python/site-packages (from importlib-resources>=3.2.0->matplotlib) (3.19.2)\n",
      "Requirement already satisfied: six>=1.5 in /Library/Developer/CommandLineTools/Library/Frameworks/Python3.framework/Versions/3.9/lib/python3.9/site-packages (from python-dateutil>=2.7->matplotlib) (1.15.0)\n",
      "\u001b[33mWARNING: You are using pip version 21.2.4; however, version 24.1.2 is available.\n",
      "You should consider upgrading via the '/Library/Developer/CommandLineTools/usr/bin/python3 -m pip install --upgrade pip' command.\u001b[0m\n"
     ]
    },
    {
     "data": {
      "image/png": "[encoded data removed]",
      "text/plain": [
       "<Figure size 640x480 with 1 Axes>"
      ]
     },
     "metadata": {},
     "output_type": "display_data"
    }
   ],
   "source": [
    "# Visualise block_reward.csv using pyplot\n",
    "\n",
    "# Prerequisite: Run this to generate block_reward.csv\n",
    "# go test ./... -v -run TestGetBlockReward\n",
    "\n",
    "!pip3 install matplotlib pandas\n",
    "\n",
    "import matplotlib.pyplot as plt\n",
    "import pandas as pd\n",
    "\n",
    "df = pd.read_csv('block_reward.csv')\n",
    "# file is simple x,y where x=block_height, y=block_reward\n",
    "# so we can use a simple line plot\n",
    "\n",
    "plt.plot(df['block_height'], df['reward'])\n",
    "plt.xlabel('Block Height')\n",
    "plt.ylabel('Block Reward')\n",
    "plt.title('Block Reward')\n",
    "plt.show()"
   ]
  },
  {
   "cell_type": "markdown",
   "metadata": {},
   "source": [
    "# State synchronisation costs.\n",
    "\n",
    "## Ethereum vs. Bitcoin state growth.\n",
    "\n",
    "## Nakamoto chains."
   ]
  },
  {
   "cell_type": "code",
   "execution_count": 3,
   "metadata": {},
   "outputs": [
    {
     "name": "stdout",
     "output_type": "stream",
     "text": [
      "block_header_size: 208\n",
      "tx_size: 155\n",
      "block_body_max_size: 1048368\n",
      "max_txs_per_block: 6763\n"
     ]
    }
   ],
   "source": [
    "\n",
    "# Model the size of transactions, blocks, and the block capacity.\n",
    "# \n",
    "# \n",
    "MEGABYTE = 1024 * 1024\n",
    "max_block_size = MEGABYTE\n",
    "\n",
    "# BLOCK HEADER SIZE.\n",
    "\"\"\"\n",
    "type BlockHeader struct {\n",
    "\tParentHash             [32]byte\n",
    "\tParentTotalWork        big.Int\n",
    "\tTimestamp              uint64\n",
    "\tNumTransactions        uint64\n",
    "\tTransactionsMerkleRoot [32]byte\n",
    "\tNonce                  [32]byte\n",
    "\tGraffiti               [32]byte\n",
    "}\n",
    "\"\"\"\n",
    "block_header_size = 32 + 64 + 8 + 8 + 32 + 32 + 32 \n",
    "block_header_size = 208\n",
    "\n",
    "# TRANSACTION SIZE.\n",
    "\"\"\"\n",
    "type RawTransaction struct {\n",
    "\tVersion    byte     `json:\"version\"`\n",
    "\tSig        [64]byte `json:\"sig\"`\n",
    "\tFromPubkey [65]byte `json:\"from\"`\n",
    "\tToPubkey   [65]byte `json:\"to\"`\n",
    "\tAmount     uint64   `json:\"amount\"`\n",
    "\tFee        uint64   `json:\"fee\"`\n",
    "\tNonce      uint64   `json:\"nonce\"`\n",
    "}\n",
    "\"\"\"\n",
    "tx_size = 1 + 65 + 65 + 8 + 8 + 8\n",
    "tx_size = 155\n",
    "\n",
    "block_body_max_size = max_block_size - block_header_size\n",
    "max_txs_per_block = (max_block_size - block_header_size) // tx_size\n",
    "\n",
    "print(f\"block_header_size: {block_header_size}\")\n",
    "print(f\"tx_size: {tx_size}\")\n",
    "\n",
    "print(f\"block_body_max_size: {block_body_max_size}\")\n",
    "print(f\"max_txs_per_block: {max_txs_per_block}\")"
   ]
  },
  {
   "cell_type": "code",
   "execution_count": null,
   "metadata": {},
   "outputs": [
    {
     "name": "stdout",
     "output_type": "stream",
     "text": [
      "number of blocks to sync in 1wk: 1008.0\n",
      "download to sync headers: 204.75 KB\n",
      "time to sync headers: 0.10 s\n",
      "download to sync bodies: 961.1 MB\n",
      "time to sync bodies: 8.0 mins\n"
     ]
    }
   ],
   "source": [
    "import math\n",
    "\n",
    "MEGABYTE = 1000 * 1000\n",
    "KILOBYTE = 1000\n",
    "\n",
    "def convert_size(size_bytes):\n",
    "   if size_bytes == 0:\n",
    "       return \"0B\"\n",
    "   size_name = (\"B\", \"KB\", \"MB\", \"GB\", \"TB\", \"PB\", \"EB\", \"ZB\", \"YB\")\n",
    "   i = int(math.floor(math.log(size_bytes, 1024)))\n",
    "   p = math.pow(1024, i)\n",
    "   s = round(size_bytes / p, 2)\n",
    "   return \"%s %s\" % (s, size_name[i])\n",
    "\n",
    "def convert_time(secs):\n",
    "    if secs < 60:\n",
    "        return f\"{secs:.2f} s\"\n",
    "    elif secs < 60 * 60:\n",
    "        return f\"{secs // 60} mins\"\n",
    "    elif secs < 60 * 60 * 24:\n",
    "        return f\"{secs // 60 // 60} hrs\"\n",
    "    elif secs < 60 * 60 * 24 * 7:\n",
    "        return f\"{secs // 60 // 60 // 24} days\"\n",
    "    else:\n",
    "        return f\"{secs // 60 // 60 // 24 // 7} wks\"\n",
    "\n",
    "number_of_peers = 5\n",
    "download_bandwidth_per_second = 2 * MEGABYTE\n",
    "block_rate = 1 / 10\n",
    "max_block_size = 1 * MEGABYTE\n",
    "block_header_size = 208\n",
    "tx_size = 155\n",
    "block_body_max_size = max_block_size - block_header_size\n",
    "max_txs_per_block = block_body_max_size // tx_size\n",
    "\n",
    "# Our last sync = 1 week ago = 7*24*60/(1/10) = 1008 blocks\n",
    "num_blocks_to_sync_1wk = 7*24*60/(10/1)\n",
    "print(f\"number of blocks to sync in 1wk: {num_blocks_to_sync_1wk}\")\n",
    "time_to_sync_headers = num_blocks_to_sync_1wk * block_header_size / download_bandwidth_per_second\n",
    "print(f\"download to sync headers: {convert_size(num_blocks_to_sync_1wk * block_header_size)}\")\n",
    "print(f\"time to sync headers: {convert_time(time_to_sync_headers)}\")\n",
    "time_to_sync_bodies = num_blocks_to_sync_1wk * block_body_max_size / download_bandwidth_per_second\n",
    "print(f\"download to sync bodies: {convert_size(num_blocks_to_sync_1wk * block_body_max_size)}\")\n",
    "print(f\"time to sync bodies: {convert_time(time_to_sync_bodies)}\")"
   ]
  },
  {
   "cell_type": "markdown",
   "metadata": {},
   "source": [
    "## Bitcoin statistics.\n",
    "\n",
    "```\n",
    "// Performance numbers:\n",
    "// 850,000 Bitcoin blocks since 2009.\n",
    "// 850000*32 = 27.2 MB of a chain hash list\n",
    "// Not too bad, we can fit it all in memory.\n",
    "// query_size = 32 B, N = 850,000\n",
    "// log(850,000) * 32 = 20 * 32 = 640 B\n",
    "// 20 rounds of binary search to interactively find common ancestor between two networked nodes.\n",
    "```"
   ]
  }
 ],
 "metadata": {
  "kernelspec": {
   "display_name": "Python 3",
   "language": "python",
   "name": "python3"
  },
  "language_info": {
   "codemirror_mode": {
    "name": "ipython",
    "version": 3
   },
   "file_extension": ".py",
   "mimetype": "text/x-python",
   "name": "python",
   "nbconvert_exporter": "python",
   "pygments_lexer": "ipython3",
   "version": "3.9.6"
  }
 },
 "nbformat": 4,
 "nbformat_minor": 2
}
